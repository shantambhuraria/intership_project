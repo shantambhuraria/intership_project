{
 "cells": [
  {
   "cell_type": "markdown",
   "id": "0e5d1408",
   "metadata": {},
   "source": [
    "#### Apriori Algorithm where our number of transcation is the number of days present in the patients data \n",
    "##### Each Transaction will look like [10,12,14,16] where each number is the  hour of the day the compliant time is not more than 40 mins \n",
    "##### Indexing based on the date "
   ]
  },
  {
   "cell_type": "code",
   "execution_count": 1,
   "id": "a1b8e3ce",
   "metadata": {},
   "outputs": [],
   "source": [
    "#Libraries required \n",
    "import numpy as np\n",
    "import pandas as pd\n",
    "import matplotlib.pyplot as plt\n",
    "import pickle\n",
    "from mpl_toolkits import mplot3d\n",
    "import seaborn as sns\n",
    "import statsmodels.api as sm\n",
    "from mlxtend.preprocessing import TransactionEncoder\n",
    "from mlxtend.frequent_patterns import apriori, association_rules"
   ]
  },
  {
   "cell_type": "code",
   "execution_count": 2,
   "id": "19071855",
   "metadata": {},
   "outputs": [],
   "source": [
    "# Function for data preprocessing\n",
    "def data_preprocessing(input_file):\n",
    "    df = pd.read_csv(input_file)\n",
    "    df = df.sort_values(by=['local_date', 'hour'], inplace=False)\n",
    "    df = df[['local_date', 'hour', 'compliant_min']]\n",
    "    df = df.reset_index(drop=True)\n",
    "    df['local_date'] = pd.to_datetime(df['local_date'])\n",
    "    \n",
    "    # Filling NA or compliant_min=0 for the missing hours\n",
    "    start_date = df['local_date'].min()\n",
    "    end_date = df['local_date'].max()\n",
    "    date_range = pd.date_range(start=start_date, end=end_date, freq='D')\n",
    "    all_dates_df = pd.DataFrame({'local_date': date_range})\n",
    "    all_hours = range(24)\n",
    "    all_hours_df = pd.DataFrame({'hour': all_hours})\n",
    "    all_dates_hours_df = all_dates_df.assign(key=1).merge(all_hours_df.assign(key=1), on='key').drop('key', axis=1)\n",
    "    merged_df = all_dates_hours_df.merge(df, on=['local_date', 'hour'], how='left')\n",
    "    merged_df['compliant_min'] = merged_df['compliant_min'].fillna(0)\n",
    "    df = merged_df.sort_values(['local_date', 'hour']).reset_index(drop=True)\n",
    "    \n",
    "    # New Column 'day' for the unique dates\n",
    "    unique_days = df['local_date'].dt.date.unique()\n",
    "    day_names = {day: f'day{i+1}' for i, day in enumerate(unique_days)}\n",
    "    df['day'] = df['local_date'].dt.date.map(day_names)\n",
    "    df = df.reset_index(drop=True)\n",
    "    \n",
    "    return df"
   ]
  },
  {
   "cell_type": "code",
   "execution_count": 3,
   "id": "8a78bc76",
   "metadata": {},
   "outputs": [],
   "source": [
    "df = data_preprocessing('13058_hourly_compliance.csv')"
   ]
  },
  {
   "cell_type": "code",
   "execution_count": 4,
   "id": "04cf9bc6",
   "metadata": {},
   "outputs": [
    {
     "data": {
      "text/html": [
       "<div>\n",
       "<style scoped>\n",
       "    .dataframe tbody tr th:only-of-type {\n",
       "        vertical-align: middle;\n",
       "    }\n",
       "\n",
       "    .dataframe tbody tr th {\n",
       "        vertical-align: top;\n",
       "    }\n",
       "\n",
       "    .dataframe thead th {\n",
       "        text-align: right;\n",
       "    }\n",
       "</style>\n",
       "<table border=\"1\" class=\"dataframe\">\n",
       "  <thead>\n",
       "    <tr style=\"text-align: right;\">\n",
       "      <th></th>\n",
       "      <th>local_date</th>\n",
       "      <th>hour</th>\n",
       "      <th>compliant_min</th>\n",
       "      <th>day</th>\n",
       "    </tr>\n",
       "  </thead>\n",
       "  <tbody>\n",
       "    <tr>\n",
       "      <th>0</th>\n",
       "      <td>2022-02-13</td>\n",
       "      <td>0</td>\n",
       "      <td>0.0</td>\n",
       "      <td>day1</td>\n",
       "    </tr>\n",
       "    <tr>\n",
       "      <th>1</th>\n",
       "      <td>2022-02-13</td>\n",
       "      <td>1</td>\n",
       "      <td>0.0</td>\n",
       "      <td>day1</td>\n",
       "    </tr>\n",
       "    <tr>\n",
       "      <th>2</th>\n",
       "      <td>2022-02-13</td>\n",
       "      <td>2</td>\n",
       "      <td>0.0</td>\n",
       "      <td>day1</td>\n",
       "    </tr>\n",
       "    <tr>\n",
       "      <th>3</th>\n",
       "      <td>2022-02-13</td>\n",
       "      <td>3</td>\n",
       "      <td>0.0</td>\n",
       "      <td>day1</td>\n",
       "    </tr>\n",
       "    <tr>\n",
       "      <th>4</th>\n",
       "      <td>2022-02-13</td>\n",
       "      <td>4</td>\n",
       "      <td>0.0</td>\n",
       "      <td>day1</td>\n",
       "    </tr>\n",
       "    <tr>\n",
       "      <th>...</th>\n",
       "      <td>...</td>\n",
       "      <td>...</td>\n",
       "      <td>...</td>\n",
       "      <td>...</td>\n",
       "    </tr>\n",
       "    <tr>\n",
       "      <th>1603</th>\n",
       "      <td>2022-04-20</td>\n",
       "      <td>19</td>\n",
       "      <td>0.0</td>\n",
       "      <td>day67</td>\n",
       "    </tr>\n",
       "    <tr>\n",
       "      <th>1604</th>\n",
       "      <td>2022-04-20</td>\n",
       "      <td>20</td>\n",
       "      <td>0.0</td>\n",
       "      <td>day67</td>\n",
       "    </tr>\n",
       "    <tr>\n",
       "      <th>1605</th>\n",
       "      <td>2022-04-20</td>\n",
       "      <td>21</td>\n",
       "      <td>0.0</td>\n",
       "      <td>day67</td>\n",
       "    </tr>\n",
       "    <tr>\n",
       "      <th>1606</th>\n",
       "      <td>2022-04-20</td>\n",
       "      <td>22</td>\n",
       "      <td>0.0</td>\n",
       "      <td>day67</td>\n",
       "    </tr>\n",
       "    <tr>\n",
       "      <th>1607</th>\n",
       "      <td>2022-04-20</td>\n",
       "      <td>23</td>\n",
       "      <td>0.0</td>\n",
       "      <td>day67</td>\n",
       "    </tr>\n",
       "  </tbody>\n",
       "</table>\n",
       "<p>1608 rows × 4 columns</p>\n",
       "</div>"
      ],
      "text/plain": [
       "     local_date  hour  compliant_min    day\n",
       "0    2022-02-13     0            0.0   day1\n",
       "1    2022-02-13     1            0.0   day1\n",
       "2    2022-02-13     2            0.0   day1\n",
       "3    2022-02-13     3            0.0   day1\n",
       "4    2022-02-13     4            0.0   day1\n",
       "...         ...   ...            ...    ...\n",
       "1603 2022-04-20    19            0.0  day67\n",
       "1604 2022-04-20    20            0.0  day67\n",
       "1605 2022-04-20    21            0.0  day67\n",
       "1606 2022-04-20    22            0.0  day67\n",
       "1607 2022-04-20    23            0.0  day67\n",
       "\n",
       "[1608 rows x 4 columns]"
      ]
     },
     "execution_count": 4,
     "metadata": {},
     "output_type": "execute_result"
    }
   ],
   "source": [
    "df"
   ]
  },
  {
   "cell_type": "code",
   "execution_count": 5,
   "id": "f901ce22",
   "metadata": {},
   "outputs": [],
   "source": [
    "# Create a function to determine the time of day based on the hour\n",
    "def get_time_of_day(hour):\n",
    "    if 6 <= hour < 12:\n",
    "        return 'Morning'\n",
    "    elif 12 <= hour < 18:\n",
    "        return 'Afternoon'\n",
    "    elif 18 <= hour < 24:\n",
    "        return 'Evening'\n",
    "    else:\n",
    "        return 'Night'\n",
    "\n",
    "# Apply the function to the 'hour' column and create a new column 'time_of_day'\n",
    "df['time_of_day'] = df['hour'].apply(get_time_of_day)"
   ]
  },
  {
   "cell_type": "markdown",
   "id": "d3d8d4f2",
   "metadata": {},
   "source": [
    "### Basic preprocessing of the data ie the the unique date or filter the data for every unique date and iterate the over the date, get the hours where the compliant time is less than 45 as a tuple"
   ]
  },
  {
   "cell_type": "code",
   "execution_count": 6,
   "id": "8eba1a46",
   "metadata": {},
   "outputs": [],
   "source": [
    "# Filter the data for each unique date\n",
    "unique_dates = df['local_date'].dt.date.unique()"
   ]
  },
  {
   "cell_type": "code",
   "execution_count": 7,
   "id": "7d358a74",
   "metadata": {},
   "outputs": [
    {
     "data": {
      "text/plain": [
       "array([datetime.date(2022, 2, 13), datetime.date(2022, 2, 14),\n",
       "       datetime.date(2022, 2, 15), datetime.date(2022, 2, 16),\n",
       "       datetime.date(2022, 2, 17), datetime.date(2022, 2, 18),\n",
       "       datetime.date(2022, 2, 19), datetime.date(2022, 2, 20),\n",
       "       datetime.date(2022, 2, 21), datetime.date(2022, 2, 22),\n",
       "       datetime.date(2022, 2, 23), datetime.date(2022, 2, 24),\n",
       "       datetime.date(2022, 2, 25), datetime.date(2022, 2, 26),\n",
       "       datetime.date(2022, 2, 27), datetime.date(2022, 2, 28),\n",
       "       datetime.date(2022, 3, 1), datetime.date(2022, 3, 2),\n",
       "       datetime.date(2022, 3, 3), datetime.date(2022, 3, 4),\n",
       "       datetime.date(2022, 3, 5), datetime.date(2022, 3, 6),\n",
       "       datetime.date(2022, 3, 7), datetime.date(2022, 3, 8),\n",
       "       datetime.date(2022, 3, 9), datetime.date(2022, 3, 10),\n",
       "       datetime.date(2022, 3, 11), datetime.date(2022, 3, 12),\n",
       "       datetime.date(2022, 3, 13), datetime.date(2022, 3, 14),\n",
       "       datetime.date(2022, 3, 15), datetime.date(2022, 3, 16),\n",
       "       datetime.date(2022, 3, 17), datetime.date(2022, 3, 18),\n",
       "       datetime.date(2022, 3, 19), datetime.date(2022, 3, 20),\n",
       "       datetime.date(2022, 3, 21), datetime.date(2022, 3, 22),\n",
       "       datetime.date(2022, 3, 23), datetime.date(2022, 3, 24),\n",
       "       datetime.date(2022, 3, 25), datetime.date(2022, 3, 26),\n",
       "       datetime.date(2022, 3, 27), datetime.date(2022, 3, 28),\n",
       "       datetime.date(2022, 3, 29), datetime.date(2022, 3, 30),\n",
       "       datetime.date(2022, 3, 31), datetime.date(2022, 4, 1),\n",
       "       datetime.date(2022, 4, 2), datetime.date(2022, 4, 3),\n",
       "       datetime.date(2022, 4, 4), datetime.date(2022, 4, 5),\n",
       "       datetime.date(2022, 4, 6), datetime.date(2022, 4, 7),\n",
       "       datetime.date(2022, 4, 8), datetime.date(2022, 4, 9),\n",
       "       datetime.date(2022, 4, 10), datetime.date(2022, 4, 11),\n",
       "       datetime.date(2022, 4, 12), datetime.date(2022, 4, 13),\n",
       "       datetime.date(2022, 4, 14), datetime.date(2022, 4, 15),\n",
       "       datetime.date(2022, 4, 16), datetime.date(2022, 4, 17),\n",
       "       datetime.date(2022, 4, 18), datetime.date(2022, 4, 19),\n",
       "       datetime.date(2022, 4, 20)], dtype=object)"
      ]
     },
     "execution_count": 7,
     "metadata": {},
     "output_type": "execute_result"
    }
   ],
   "source": [
    "unique_dates"
   ]
  },
  {
   "cell_type": "code",
   "execution_count": 8,
   "id": "ae23c20a",
   "metadata": {},
   "outputs": [
    {
     "data": {
      "text/html": [
       "<div>\n",
       "<style scoped>\n",
       "    .dataframe tbody tr th:only-of-type {\n",
       "        vertical-align: middle;\n",
       "    }\n",
       "\n",
       "    .dataframe tbody tr th {\n",
       "        vertical-align: top;\n",
       "    }\n",
       "\n",
       "    .dataframe thead th {\n",
       "        text-align: right;\n",
       "    }\n",
       "</style>\n",
       "<table border=\"1\" class=\"dataframe\">\n",
       "  <thead>\n",
       "    <tr style=\"text-align: right;\">\n",
       "      <th></th>\n",
       "      <th>local_date</th>\n",
       "      <th>hour</th>\n",
       "      <th>compliant_min</th>\n",
       "      <th>day</th>\n",
       "      <th>time_of_day</th>\n",
       "    </tr>\n",
       "  </thead>\n",
       "  <tbody>\n",
       "    <tr>\n",
       "      <th>0</th>\n",
       "      <td>2022-02-13</td>\n",
       "      <td>0</td>\n",
       "      <td>0.0</td>\n",
       "      <td>day1</td>\n",
       "      <td>Night</td>\n",
       "    </tr>\n",
       "    <tr>\n",
       "      <th>1</th>\n",
       "      <td>2022-02-13</td>\n",
       "      <td>1</td>\n",
       "      <td>0.0</td>\n",
       "      <td>day1</td>\n",
       "      <td>Night</td>\n",
       "    </tr>\n",
       "    <tr>\n",
       "      <th>2</th>\n",
       "      <td>2022-02-13</td>\n",
       "      <td>2</td>\n",
       "      <td>0.0</td>\n",
       "      <td>day1</td>\n",
       "      <td>Night</td>\n",
       "    </tr>\n",
       "    <tr>\n",
       "      <th>3</th>\n",
       "      <td>2022-02-13</td>\n",
       "      <td>3</td>\n",
       "      <td>0.0</td>\n",
       "      <td>day1</td>\n",
       "      <td>Night</td>\n",
       "    </tr>\n",
       "    <tr>\n",
       "      <th>4</th>\n",
       "      <td>2022-02-13</td>\n",
       "      <td>4</td>\n",
       "      <td>0.0</td>\n",
       "      <td>day1</td>\n",
       "      <td>Night</td>\n",
       "    </tr>\n",
       "    <tr>\n",
       "      <th>...</th>\n",
       "      <td>...</td>\n",
       "      <td>...</td>\n",
       "      <td>...</td>\n",
       "      <td>...</td>\n",
       "      <td>...</td>\n",
       "    </tr>\n",
       "    <tr>\n",
       "      <th>1603</th>\n",
       "      <td>2022-04-20</td>\n",
       "      <td>19</td>\n",
       "      <td>0.0</td>\n",
       "      <td>day67</td>\n",
       "      <td>Evening</td>\n",
       "    </tr>\n",
       "    <tr>\n",
       "      <th>1604</th>\n",
       "      <td>2022-04-20</td>\n",
       "      <td>20</td>\n",
       "      <td>0.0</td>\n",
       "      <td>day67</td>\n",
       "      <td>Evening</td>\n",
       "    </tr>\n",
       "    <tr>\n",
       "      <th>1605</th>\n",
       "      <td>2022-04-20</td>\n",
       "      <td>21</td>\n",
       "      <td>0.0</td>\n",
       "      <td>day67</td>\n",
       "      <td>Evening</td>\n",
       "    </tr>\n",
       "    <tr>\n",
       "      <th>1606</th>\n",
       "      <td>2022-04-20</td>\n",
       "      <td>22</td>\n",
       "      <td>0.0</td>\n",
       "      <td>day67</td>\n",
       "      <td>Evening</td>\n",
       "    </tr>\n",
       "    <tr>\n",
       "      <th>1607</th>\n",
       "      <td>2022-04-20</td>\n",
       "      <td>23</td>\n",
       "      <td>0.0</td>\n",
       "      <td>day67</td>\n",
       "      <td>Evening</td>\n",
       "    </tr>\n",
       "  </tbody>\n",
       "</table>\n",
       "<p>1608 rows × 5 columns</p>\n",
       "</div>"
      ],
      "text/plain": [
       "     local_date  hour  compliant_min    day time_of_day\n",
       "0    2022-02-13     0            0.0   day1       Night\n",
       "1    2022-02-13     1            0.0   day1       Night\n",
       "2    2022-02-13     2            0.0   day1       Night\n",
       "3    2022-02-13     3            0.0   day1       Night\n",
       "4    2022-02-13     4            0.0   day1       Night\n",
       "...         ...   ...            ...    ...         ...\n",
       "1603 2022-04-20    19            0.0  day67     Evening\n",
       "1604 2022-04-20    20            0.0  day67     Evening\n",
       "1605 2022-04-20    21            0.0  day67     Evening\n",
       "1606 2022-04-20    22            0.0  day67     Evening\n",
       "1607 2022-04-20    23            0.0  day67     Evening\n",
       "\n",
       "[1608 rows x 5 columns]"
      ]
     },
     "execution_count": 8,
     "metadata": {},
     "output_type": "execute_result"
    }
   ],
   "source": [
    "df"
   ]
  },
  {
   "cell_type": "code",
   "execution_count": 10,
   "id": "683c3cc7",
   "metadata": {},
   "outputs": [],
   "source": [
    "# # Iterate over the unique dates and extract the hours where compliant time is less than 40\n",
    "hours_less_than_45 = []\n",
    "for date in unique_dates:\n",
    "    filtered_data = df[df['local_date'].dt.date == date]\n",
    "    filtered_data_less_than_45 = filtered_data[filtered_data['compliant_min'] < 45]\n",
    "    hours_filtered = tuple(filtered_data_less_than_45['hour'])\n",
    "    hours_less_than_45.append((date, hours_filtered))"
   ]
  },
  {
   "cell_type": "code",
   "execution_count": 11,
   "id": "1f820402",
   "metadata": {},
   "outputs": [],
   "source": [
    "# Convert data into transaction format\n",
    "transactions_of_hours = [itemset[1] for itemset in hours_less_than_45]\n"
   ]
  },
  {
   "cell_type": "code",
   "execution_count": 12,
   "id": "701138fb",
   "metadata": {},
   "outputs": [
    {
     "data": {
      "text/plain": [
       "[(0,\n",
       "  1,\n",
       "  2,\n",
       "  3,\n",
       "  4,\n",
       "  5,\n",
       "  6,\n",
       "  7,\n",
       "  8,\n",
       "  9,\n",
       "  10,\n",
       "  11,\n",
       "  12,\n",
       "  13,\n",
       "  14,\n",
       "  15,\n",
       "  16,\n",
       "  17,\n",
       "  18,\n",
       "  19,\n",
       "  20,\n",
       "  21,\n",
       "  22,\n",
       "  23),\n",
       " (0, 1, 2, 3, 4, 5, 6, 7, 8, 9, 10, 11),\n",
       " (),\n",
       " (),\n",
       " (19,),\n",
       " (10, 14, 15),\n",
       " (),\n",
       " (),\n",
       " (20, 21),\n",
       " (20, 21),\n",
       " (19, 20, 21),\n",
       " (20,),\n",
       " (19,),\n",
       " (20,),\n",
       " (19,),\n",
       " (19,),\n",
       " (19,),\n",
       " (20,),\n",
       " (19, 20),\n",
       " (20, 21),\n",
       " (19, 20),\n",
       " (19,),\n",
       " (19,),\n",
       " (20, 21),\n",
       " (19, 20),\n",
       " (19,),\n",
       " (20,),\n",
       " (),\n",
       " (7, 21),\n",
       " (20,),\n",
       " (20, 21),\n",
       " (2, 20, 21),\n",
       " (20,),\n",
       " (21,),\n",
       " (22,),\n",
       " (20, 21),\n",
       " (20,),\n",
       " (10, 19, 20),\n",
       " (20, 21),\n",
       " (20, 21),\n",
       " (20, 21),\n",
       " (21,),\n",
       " (22,),\n",
       " (20,),\n",
       " (20,),\n",
       " (20,),\n",
       " (21,),\n",
       " (20, 21),\n",
       " (21,),\n",
       " (13, 14, 20),\n",
       " (21,),\n",
       " (20,),\n",
       " (),\n",
       " (19, 20),\n",
       " (20,),\n",
       " (21,),\n",
       " (21,),\n",
       " (20,),\n",
       " (20,),\n",
       " (20,),\n",
       " (21,),\n",
       " (21,),\n",
       " (21,),\n",
       " (21,),\n",
       " (20,),\n",
       " (20, 21),\n",
       " (7, 10, 11, 12, 13, 14, 15, 16, 17, 18, 19, 20, 21, 22, 23)]"
      ]
     },
     "execution_count": 12,
     "metadata": {},
     "output_type": "execute_result"
    }
   ],
   "source": [
    "transactions_of_hours"
   ]
  },
  {
   "cell_type": "code",
   "execution_count": 13,
   "id": "b1243474",
   "metadata": {},
   "outputs": [],
   "source": [
    "# Convert the transaction data to a one-hot encoded format\n",
    "te = TransactionEncoder()\n",
    "te_ary = te.fit(transactions_of_hours).transform(transactions_of_hours)\n",
    "df = pd.DataFrame(te_ary, columns=te.columns_)"
   ]
  },
  {
   "cell_type": "code",
   "execution_count": 17,
   "id": "c57104cb",
   "metadata": {},
   "outputs": [],
   "source": [
    "# Apply Apriori algorithm to find frequent itemsets\n",
    "frequent_itemsets_hours = apriori(df, min_support=0.2, use_colnames=True)\n"
   ]
  },
  {
   "cell_type": "code",
   "execution_count": 18,
   "id": "ce6f3425",
   "metadata": {},
   "outputs": [],
   "source": [
    "# Sort the frequent itemsets by support in descending order\n",
    "frequent_itemsets_hours = frequent_itemsets_hours.sort_values(by='support', ascending=False)\n"
   ]
  },
  {
   "cell_type": "code",
   "execution_count": 19,
   "id": "0e754c65",
   "metadata": {},
   "outputs": [
    {
     "name": "stdout",
     "output_type": "stream",
     "text": [
      "    support  itemsets\n",
      "1  0.552239      (20)\n",
      "2  0.402985      (21)\n",
      "0  0.238806      (19)\n",
      "3  0.223881  (20, 21)\n"
     ]
    }
   ],
   "source": [
    "# Get the most frequent itemsets\n",
    "most_frequent_itemsets_hours = frequent_itemsets_hours.head(15)  # Adjust the number as needed\n",
    "\n",
    "print(most_frequent_itemsets_hours)"
   ]
  },
  {
   "cell_type": "code",
   "execution_count": 20,
   "id": "dc2fb85a",
   "metadata": {},
   "outputs": [
    {
     "data": {
      "image/png": "[encoded data removed]",
      "text/plain": [
       "<Figure size 640x480 with 1 Axes>"
      ]
     },
     "metadata": {},
     "output_type": "display_data"
    },
    {
     "name": "stdout",
     "output_type": "stream",
     "text": [
      "The patient is not compliant for the hours: 20, with a support of 0.5522388059701493.\n",
      "The patient is not compliant for the hours: 21, with a support of 0.40298507462686567.\n",
      "The patient is not compliant for the hours: 19, with a support of 0.23880597014925373.\n"
     ]
    }
   ],
   "source": [
    "# Sort the results by support in descending order\n",
    "results = most_frequent_itemsets_hours.sort_values(by='support', ascending=False)\n",
    "\n",
    "# Modify the itemsets column to remove 'frozenset' and display cleaner visualization\n",
    "results['itemsets'] = results['itemsets'].apply(lambda x: \", \".join(str(item) for item in x))\n",
    "\n",
    "# Visualize the support values\n",
    "plt.barh(range(len(results)), results['support'], color='blue')\n",
    "plt.yticks(range(len(results)), results['itemsets'])\n",
    "plt.xlabel('Support')\n",
    "plt.ylabel('Itemsets')\n",
    "plt.title('Apriori Algorithm - Itemset Support')\n",
    "plt.show()\n",
    "\n",
    "# Print the top three itemsets\n",
    "for index, row in results.head(3).iterrows():\n",
    "    print(f\"The patient is not compliant for the hours: {row['itemsets']}, with a support of {row['support']}.\")"
   ]
  },
  {
   "cell_type": "code",
   "execution_count": null,
   "id": "9c164d36",
   "metadata": {},
   "outputs": [],
   "source": []
  },
  {
   "cell_type": "code",
   "execution_count": null,
   "id": "7a4566e4",
   "metadata": {},
   "outputs": [],
   "source": []
  },
  {
   "cell_type": "markdown",
   "id": "83b26b01",
   "metadata": {},
   "source": [
    "### Similarly showing at what particular time of day patient is least compliant"
   ]
  },
  {
   "cell_type": "code",
   "execution_count": null,
   "id": "50b19bb1",
   "metadata": {},
   "outputs": [],
   "source": []
  },
  {
   "cell_type": "code",
   "execution_count": 37,
   "id": "a13822e5",
   "metadata": {},
   "outputs": [],
   "source": [
    "# Convert the transaction data to a one-hot encoded format\n",
    "te = TransactionEncoder()\n",
    "te_ary = te.fit(transactions_of_time_of_day).transform(transactions_of_time_of_day)\n",
    "df = pd.DataFrame(te_ary, columns=te.columns_)"
   ]
  },
  {
   "cell_type": "code",
   "execution_count": 38,
   "id": "e72f5c74",
   "metadata": {},
   "outputs": [],
   "source": [
    "# Apply Apriori algorithm to find frequent itemsets\n",
    "frequent_itemsets_day = apriori(df, min_support=0.2, use_colnames=True)\n"
   ]
  },
  {
   "cell_type": "code",
   "execution_count": 39,
   "id": "4355e70c",
   "metadata": {},
   "outputs": [],
   "source": [
    "# Sort the frequent itemsets by support in descending order\n",
    "frequent_itemsets_day = frequent_itemsets_day.sort_values(by='support', ascending=False)\n"
   ]
  },
  {
   "cell_type": "code",
   "execution_count": 40,
   "id": "f2b6f322",
   "metadata": {},
   "outputs": [
    {
     "name": "stdout",
     "output_type": "stream",
     "text": [
      "     support                              itemsets\n",
      "1   0.773585                             (Evening)\n",
      "0   0.490566                           (Afternoon)\n",
      "2   0.490566                             (Morning)\n",
      "4   0.415094                  (Evening, Afternoon)\n",
      "5   0.396226                  (Afternoon, Morning)\n",
      "3   0.377358                               (Night)\n",
      "7   0.377358                    (Evening, Morning)\n",
      "9   0.377358                      (Morning, Night)\n",
      "10  0.339623         (Evening, Afternoon, Morning)\n",
      "6   0.320755                    (Afternoon, Night)\n",
      "12  0.320755           (Afternoon, Morning, Night)\n",
      "8   0.283019                      (Evening, Night)\n",
      "13  0.283019             (Evening, Morning, Night)\n",
      "11  0.264151           (Evening, Afternoon, Night)\n",
      "14  0.264151  (Evening, Afternoon, Morning, Night)\n"
     ]
    }
   ],
   "source": [
    "# Get the most frequent itemsets\n",
    "frequent_itemsets_day = frequent_itemsets_day.head(15)  # Adjust the number as needed\n",
    "\n",
    "print(frequent_itemsets_day)"
   ]
  },
  {
   "cell_type": "code",
   "execution_count": 42,
   "id": "95840aaf",
   "metadata": {},
   "outputs": [
    {
     "data": {
      "image/png": "[encoded data removed]",
      "text/plain": [
       "<Figure size 640x480 with 1 Axes>"
      ]
     },
     "metadata": {},
     "output_type": "display_data"
    },
    {
     "name": "stdout",
     "output_type": "stream",
     "text": [
      "The patient is least compliant during the following time of day : Evening, with a support of 0.7735849056603774.\n"
     ]
    }
   ],
   "source": [
    "# Sort the results by support in decending order\n",
    "results = frequent_itemsets_day.sort_values(by='support',ascending=False)\n",
    "\n",
    "# Modify the itemsets column to remove 'frozenset' and display cleaner visualization\n",
    "results['itemsets'] = results['itemsets'].apply(lambda x: \", \".join(str(item) for item in x))\n",
    "\n",
    "# Visualize the support values\n",
    "plt.barh(range(len(results)), results['support'], color='blue')\n",
    "plt.yticks(range(len(results)), results['itemsets'])\n",
    "plt.xlabel('Support')\n",
    "plt.ylabel('Itemsets')\n",
    "plt.title('Apriori Algorithm - Itemset Support')\n",
    "plt.show()\n",
    "\n",
    "# Print the itemset with the least support\n",
    "most_support_itemset = results.iloc[0]\n",
    "print(f\"The patient is least compliant during the following time of day : {most_support_itemset['itemsets']}, with a support of {most_support_itemset['support']}.\")"
   ]
  },
  {
   "cell_type": "code",
   "execution_count": null,
   "id": "37e7454f",
   "metadata": {},
   "outputs": [],
   "source": []
  }
 ],
 "metadata": {
  "kernelspec": {
   "display_name": "Python 3 (ipykernel)",
   "language": "python",
   "name": "python3"
  },
  "language_info": {
   "codemirror_mode": {
    "name": "ipython",
    "version": 3
   },
   "file_extension": ".py",
   "mimetype": "text/x-python",
   "name": "python",
   "nbconvert_exporter": "python",
   "pygments_lexer": "ipython3",
   "version": "3.10.9"
  }
 },
 "nbformat": 4,
 "nbformat_minor": 5
}
